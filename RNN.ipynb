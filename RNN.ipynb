{
 "cells": [
  {
   "cell_type": "code",
   "execution_count": 2,
   "metadata": {},
   "outputs": [],
   "source": [
    "import torch\n",
    "import numpy as np\n",
    "from fastai.text.all import *"
   ]
  },
  {
   "cell_type": "code",
   "execution_count": 3,
   "metadata": {},
   "outputs": [],
   "source": [
    "path = untar_data(URLs.MNIST_SAMPLE)"
   ]
  },
  {
   "cell_type": "code",
   "execution_count": 5,
   "metadata": {},
   "outputs": [
    {
     "data": {
      "text/plain": [
       "(#3) [Path('/Users/fabianjaeger/.fastai/data/mnist_sample/valid'),Path('/Users/fabianjaeger/.fastai/data/mnist_sample/labels.csv'),Path('/Users/fabianjaeger/.fastai/data/mnist_sample/train')]"
      ]
     },
     "execution_count": 5,
     "metadata": {},
     "output_type": "execute_result"
    }
   ],
   "source": [
    "path.ls()"
   ]
  },
  {
   "cell_type": "markdown",
   "metadata": {},
   "source": [
    "### Building Basic RNN"
   ]
  },
  {
   "cell_type": "code",
   "execution_count": 5,
   "metadata": {},
   "outputs": [
    {
     "data": {
      "text/plain": [
       "<torch._C.Generator at 0x10e16d830>"
      ]
     },
     "execution_count": 5,
     "metadata": {},
     "output_type": "execute_result"
    }
   ],
   "source": [
    "import torch\n",
    "import torch.nn as nn\n",
    "torch.manual_seed(1)"
   ]
  },
  {
   "cell_type": "markdown",
   "metadata": {},
   "source": [
    "### Sentiment Analysis on IMDb Movie Reviews\n",
    "\n",
    "Corresponds to a many-to-one RNN problem (i.e sentence or tokens get classified by a fixed label, `neg` or `pos` encoded as `1`, `2` respectively)\n",
    "\n",
    "\n",
    "1. Split data into training, validation and test set\n",
    "2. Find the unique words in the training set\n",
    "3. Encode each unique word by a mapping to a unique integer and actually encode the review text of the movies into encoded integers\n",
    "4. Divide the dataset into mini-batches as input to the model"
   ]
  },
  {
   "cell_type": "code",
   "execution_count": 6,
   "metadata": {},
   "outputs": [
    {
     "ename": "ModuleNotFoundError",
     "evalue": "No module named 'torchtext'",
     "output_type": "error",
     "traceback": [
      "\u001b[0;31m---------------------------------------------------------------------------\u001b[0m",
      "\u001b[0;31mModuleNotFoundError\u001b[0m                       Traceback (most recent call last)",
      "Cell \u001b[0;32mIn[6], line 1\u001b[0m\n\u001b[0;32m----> 1\u001b[0m \u001b[38;5;28;01mfrom\u001b[39;00m \u001b[38;5;21;01mtorchtext\u001b[39;00m\u001b[38;5;21;01m.\u001b[39;00m\u001b[38;5;21;01mdatasets\u001b[39;00m \u001b[38;5;28;01mimport\u001b[39;00m IMDB\n\u001b[1;32m      2\u001b[0m train_iter \u001b[38;5;241m=\u001b[39m IMDB(split\u001b[38;5;241m=\u001b[39m\u001b[38;5;124m'\u001b[39m\u001b[38;5;124mtrain\u001b[39m\u001b[38;5;124m'\u001b[39m) \u001b[38;5;66;03m# Whole dataset contains 25'000 movie reviews\u001b[39;00m\n\u001b[1;32m      3\u001b[0m test_iter \u001b[38;5;241m=\u001b[39m IMDB(split\u001b[38;5;241m=\u001b[39m\u001b[38;5;124m\"\u001b[39m\u001b[38;5;124mtest\u001b[39m\u001b[38;5;124m\"\u001b[39m) \u001b[38;5;66;03m# contains 15'000 movie reviews\u001b[39;00m\n",
      "\u001b[0;31mModuleNotFoundError\u001b[0m: No module named 'torchtext'"
     ]
    }
   ],
   "source": [
    "from torchtext.datasets import IMDB\n",
    "train_iter = IMDB(split='train') # Whole dataset contains 25'000 movie reviews\n",
    "test_iter = IMDB(split=\"test\") # contains 15'000 movie reviews\n",
    "\n",
    "from torch.utils.data import DataLoader, Dataset"
   ]
  },
  {
   "cell_type": "markdown",
   "metadata": {},
   "source": [
    "Split data into training, validation and test set"
   ]
  },
  {
   "cell_type": "code",
   "execution_count": 4,
   "metadata": {},
   "outputs": [],
   "source": [
    "from torch.utils.data.dataset import random_split\n",
    "torch.manual_seed(1)\n",
    "train_dataset, valid_dataset = random_split(list(train_iter), [20000, 5000])"
   ]
  },
  {
   "cell_type": "code",
   "execution_count": 17,
   "metadata": {},
   "outputs": [
    {
     "data": {
      "text/plain": [
       "[1,\n",
       " \"I normally have no problem walking away from a bad movie, however this was an unique case. This movie was so bad that I actually sat through the whole thing almost praying it would have one minute of good movie time to justify the hour and a half that was wasted. Needless to say I was brutally disappointed. Set at a beach house where a group of college friends are celebrating vacation, this movie suffers from numerous problems making it not worth seeing. First, there are gaping plot holes. Second, very few of the C-list (i don't even dare call them B) actors can act worth a damn, so any scenes that have potential fail miserably. Third, the rate of the film is very choppy and awkward to watch most of the time making suspense building very difficult, leading to very few surprises for the audience. Fourth and most importantly, the ending is completely anti-climatic partially because of how it ends (setting/who the killer turns out to be) and partially because the dialog is just atrocious. To the films credit, it is the only movie that I will ever say is the worst movie I have ever scene, and i've seen a lot.<br /><br />So, just like a bad joke you would have been all the happier never hearing, the next time someone asks you if you want to know a secret you will be yelling no, you really don't as you run in the opposite direction.\"]"
      ]
     },
     "execution_count": 17,
     "metadata": {},
     "output_type": "execute_result"
    }
   ],
   "source": [
    "list(train_dataset[400])"
   ]
  },
  {
   "cell_type": "code",
   "execution_count": 78,
   "metadata": {},
   "outputs": [],
   "source": [
    "import pandas as pd\n",
    "\n",
    "def get_df(data_iter):\n",
    "    labels = []\n",
    "    reviews = []\n",
    "    for label, review in data_iter:\n",
    "        labels.append(label)\n",
    "        reviews.append(review) \n",
    "    return labels,reviews\n",
    "    \n",
    "train_label, train_reviews = get_df(train_dataset)\n",
    "val_label, val_reviews = get_df(valid_dataset)\n",
    "test_label, test_reviews = get_df(test_iter)\n",
    "\n",
    "test_df = pd.DataFrame({\"sentiment\": test_label, \"reviews\": test_reviews})\n",
    "val_df= pd.DataFrame({\"sentiment\": val_label, \"reviews\": val_reviews})\n",
    "train_df = pd.DataFrame({\"sentiment\": train_label, \"review\": train_reviews})\n"
   ]
  },
  {
   "cell_type": "code",
   "execution_count": 1,
   "metadata": {},
   "outputs": [
    {
     "ename": "NameError",
     "evalue": "name 'train_dataset' is not defined",
     "output_type": "error",
     "traceback": [
      "\u001b[0;31m---------------------------------------------------------------------------\u001b[0m",
      "\u001b[0;31mNameError\u001b[0m                                 Traceback (most recent call last)",
      "Cell \u001b[0;32mIn[1], line 15\u001b[0m\n\u001b[1;32m     11\u001b[0m     \u001b[38;5;28;01mreturn\u001b[39;00m tokenized\n\u001b[1;32m     13\u001b[0m token_counts \u001b[38;5;241m=\u001b[39m Counter() \n\u001b[0;32m---> 15\u001b[0m \u001b[38;5;28;01mfor\u001b[39;00m label, line \u001b[38;5;129;01min\u001b[39;00m \u001b[43mtrain_dataset\u001b[49m:\n\u001b[1;32m     16\u001b[0m     tokens \u001b[38;5;241m=\u001b[39m tokenizer(line)\n\u001b[1;32m     17\u001b[0m     token_counts\u001b[38;5;241m.\u001b[39mupdate(tokens)\n",
      "\u001b[0;31mNameError\u001b[0m: name 'train_dataset' is not defined"
     ]
    }
   ],
   "source": [
    "import re\n",
    "from collections import Counter, OrderedDict\n",
    "\n",
    "def tokenizer(text):\n",
    "    text = re.sub('<[^>]*>', '', text) \n",
    "    emoticons = re.findall(\n",
    "        '(?::|;|=)(?:-)?(?:\\)|\\(|D|P)', text.lower()\n",
    "    )\n",
    "    text = re.sub('[\\W]+', ' ', text.lower()) + ' '.join(emoticons).replace('-', '')\n",
    "    tokenized = text.split()\n",
    "    return tokenized\n",
    "\n",
    "token_counts = Counter() \n",
    "\n",
    "for label, line in train_dataset:\n",
    "    tokens = tokenizer(line)\n",
    "    token_counts.update(tokens)\n",
    "\n",
    "print('Vocab-size:', len(token_counts))"
   ]
  },
  {
   "cell_type": "code",
   "execution_count": 79,
   "metadata": {},
   "outputs": [
    {
     "data": {
      "text/html": [
       "<div>\n",
       "<style scoped>\n",
       "    .dataframe tbody tr th:only-of-type {\n",
       "        vertical-align: middle;\n",
       "    }\n",
       "\n",
       "    .dataframe tbody tr th {\n",
       "        vertical-align: top;\n",
       "    }\n",
       "\n",
       "    .dataframe thead th {\n",
       "        text-align: right;\n",
       "    }\n",
       "</style>\n",
       "<table border=\"1\" class=\"dataframe\">\n",
       "  <thead>\n",
       "    <tr style=\"text-align: right;\">\n",
       "      <th></th>\n",
       "      <th>sentiment</th>\n",
       "      <th>review</th>\n",
       "    </tr>\n",
       "  </thead>\n",
       "  <tbody>\n",
       "    <tr>\n",
       "      <th>0</th>\n",
       "      <td>2</td>\n",
       "      <td>An extra is called upon to play a general in a movie about the Russian Revolution. However, he is not any ordinary extra. He is Serguis Alexander, former commanding general of the Russia armies who is now being forced to relive the same scene, which he suffered professional and personal tragedy in, to satisfy the director who was once a revolutionist in Russia and was humiliated by Alexander. It can now be the time for this broken man to finally \"win\" his penultimate battle. This is one powerful movie with meticulous direction by Von Sternberg, providing the greatest irony in Alexander's c...</td>\n",
       "    </tr>\n",
       "    <tr>\n",
       "      <th>1</th>\n",
       "      <td>2</td>\n",
       "      <td>almost every review of this movie I'd seen was pretty bad. It's not pretty bad, it's actually pretty good, though not great. The Judy Garland character could have gotten annoying, but she didn't allow it to. Somewhere along the line, i've become a fan of brooding, overbearing, overacting Van Heflin, at least in the early 40's. Judy's singing is great, but the film missed a great chance by not showing more of their relationship. I gave it a 7.</td>\n",
       "    </tr>\n",
       "    <tr>\n",
       "      <th>2</th>\n",
       "      <td>2</td>\n",
       "      <td>I did not have too much interest in watching The Flock.Andrew Lau co-directed the masterpiece trilogy of Infernal Affairs but he had been fired from The Flock and he had been replaced by an emergency director called Niels Mueller.I had the feeling that Lau had made a good film but it had not satisfied the study,so they fired him and hired another director.This usually does not work well (let's remember The Invasion).But The Flock resulted to be better than what I expected.It's not a great film but it's an interesting and entertaining thriller.The character development is very well done and...</td>\n",
       "    </tr>\n",
       "    <tr>\n",
       "      <th>3</th>\n",
       "      <td>1</td>\n",
       "      <td>Ulises is a literature teacher that arrives to a coastal town. There, he will fell in love to Martina, the most beautiful girl in town. They will start a torrid romance which will end in the tragic death of Ulises at the sea. Some years later, Martina has married to Sierra, the richest man in town and lives a quiet happy live surrounded by money. One day, the apparition of Ulises will make her passion to rise up and act without thinking the consequences. The plot is quite absurd and none of the actors plays a decent part. IN addition, three quarters of the film are sexual acts, which, stil...</td>\n",
       "    </tr>\n",
       "    <tr>\n",
       "      <th>4</th>\n",
       "      <td>2</td>\n",
       "      <td>I found The FBI Story considerably entertaining and suitably upbeat for my New Years Day holiday viewing. Its drama and action-packed episodes were thrilling. The Hardesty character was well drawn and admirable. Overall the photography, script and direction was perfectly creditable. Rather than taking the film to be a repugnant piece of propaganda, as some might, I enjoyed it as a well mounted portrayal of the necessity of ingenious minds and brave bodies in the fight against crime. Again, the depiction of a family holding together even under the strain of the husband's commitment to his (...</td>\n",
       "    </tr>\n",
       "    <tr>\n",
       "      <th>...</th>\n",
       "      <td>...</td>\n",
       "      <td>...</td>\n",
       "    </tr>\n",
       "    <tr>\n",
       "      <th>19995</th>\n",
       "      <td>1</td>\n",
       "      <td>Let me begin by saying I am a big fantasy fan. However, this film is not for me. Many far-fetched arguments are trying to support this film's claim that dragons possibly ever existed. The film mentions connections in different stories from different countries, but fails to investigate them more thoroughly, which could have given the film some credibility. The film uses (nice!) CGI to tell us a narrated fantasy story on a young dragon's life. This is combined with popular-TV-show-CSI-style flash-forwards to make it look like something scientific, which it is definitely not. In many cases th...</td>\n",
       "    </tr>\n",
       "    <tr>\n",
       "      <th>19996</th>\n",
       "      <td>1</td>\n",
       "      <td>Well, I just ordered this on my pay-per-view at home because I was bored and needed a laugh. I have to admit, I did chuckle a few times, but I don't even remember what parts they were at. I don't understand why this movie was made. It claims to be a comedy but seriousuly, I don't find a singing penis, or a naked 70 year old woman very funny. This movie was trying to fit itself into the 'gross-out' comedies of recent years such as American Pie and Road Trip, but it just failed miserably. It was way to much gross-out then it was comedy. Also, why on earth did Cameron Diaz attach her name to ...</td>\n",
       "    </tr>\n",
       "    <tr>\n",
       "      <th>19997</th>\n",
       "      <td>1</td>\n",
       "      <td>I was interested in seeing this movie because I knew it was Christian based. The director had a good idea/intentions when making this movie but it could have been better. I can understand why someone would still have feelings for who they believe is the greatest love of their life. However, I didn't understand why the director made his friends so insensitive, mean and rude. The main character kept apologizing to his friends when they were the ones mean to him. They weren't understanding at all and they used God as a reason to explain their behaviors. The main character, nor anyone else did...</td>\n",
       "    </tr>\n",
       "    <tr>\n",
       "      <th>19998</th>\n",
       "      <td>1</td>\n",
       "      <td>A few weeks ago the German broadcaster \"SAT1\" advertised this movie as the \"TV-Event of the year\" - sorry, but I've seen better things on TV this year.&lt;br /&gt;&lt;br /&gt;I didn't thought much of the movie but I soon reminisced about two other horrible movies when I watched the commercial - namely Titanic and Pearl Harbor because the picture looked so familiar: The \"heroine\" (if I can really call her that) in the middle and her two \"loved-ones\" next to her - Pearl Harbor, anyone? In fact the love-story is a poor man's version of the one in Pearl Harbor and that one was already poor!&lt;br /&gt;&lt;br /&gt;But...</td>\n",
       "    </tr>\n",
       "    <tr>\n",
       "      <th>19999</th>\n",
       "      <td>1</td>\n",
       "      <td>This was talked about to death by the critics when it honestly isn't that great. Sure, \"CHAOS\" and \"INSIDE MAN\" are literally the same movie, just with variations in suspense. But I found \"CHAOS\" more enjoyable because it was fast paced kinda like the silly film \"Swordfish.\" The reason this film is more popular is because this got released in the States and \"Chaos\" was aired all around the world at film festivals and foreign theaters, but has yet to find a distributor in the U.K. and U.S.A. &lt;br /&gt;&lt;br /&gt;It's true that this film makes lots of tributes to classic films like DOG DAY AFTERNOON ...</td>\n",
       "    </tr>\n",
       "  </tbody>\n",
       "</table>\n",
       "<p>20000 rows × 2 columns</p>\n",
       "</div>"
      ],
      "text/plain": [
       "       sentiment  \\\n",
       "0              2   \n",
       "1              2   \n",
       "2              2   \n",
       "3              1   \n",
       "4              2   \n",
       "...          ...   \n",
       "19995          1   \n",
       "19996          1   \n",
       "19997          1   \n",
       "19998          1   \n",
       "19999          1   \n",
       "\n",
       "                                                                                                                                                                                                                                                                                                                                                                                                                                                                                                                                                                                                                        review  \n",
       "0      An extra is called upon to play a general in a movie about the Russian Revolution. However, he is not any ordinary extra. He is Serguis Alexander, former commanding general of the Russia armies who is now being forced to relive the same scene, which he suffered professional and personal tragedy in, to satisfy the director who was once a revolutionist in Russia and was humiliated by Alexander. It can now be the time for this broken man to finally \"win\" his penultimate battle. This is one powerful movie with meticulous direction by Von Sternberg, providing the greatest irony in Alexander's c...  \n",
       "1                                                                                                                                                               almost every review of this movie I'd seen was pretty bad. It's not pretty bad, it's actually pretty good, though not great. The Judy Garland character could have gotten annoying, but she didn't allow it to. Somewhere along the line, i've become a fan of brooding, overbearing, overacting Van Heflin, at least in the early 40's. Judy's singing is great, but the film missed a great chance by not showing more of their relationship. I gave it a 7.  \n",
       "2      I did not have too much interest in watching The Flock.Andrew Lau co-directed the masterpiece trilogy of Infernal Affairs but he had been fired from The Flock and he had been replaced by an emergency director called Niels Mueller.I had the feeling that Lau had made a good film but it had not satisfied the study,so they fired him and hired another director.This usually does not work well (let's remember The Invasion).But The Flock resulted to be better than what I expected.It's not a great film but it's an interesting and entertaining thriller.The character development is very well done and...  \n",
       "3      Ulises is a literature teacher that arrives to a coastal town. There, he will fell in love to Martina, the most beautiful girl in town. They will start a torrid romance which will end in the tragic death of Ulises at the sea. Some years later, Martina has married to Sierra, the richest man in town and lives a quiet happy live surrounded by money. One day, the apparition of Ulises will make her passion to rise up and act without thinking the consequences. The plot is quite absurd and none of the actors plays a decent part. IN addition, three quarters of the film are sexual acts, which, stil...  \n",
       "4      I found The FBI Story considerably entertaining and suitably upbeat for my New Years Day holiday viewing. Its drama and action-packed episodes were thrilling. The Hardesty character was well drawn and admirable. Overall the photography, script and direction was perfectly creditable. Rather than taking the film to be a repugnant piece of propaganda, as some might, I enjoyed it as a well mounted portrayal of the necessity of ingenious minds and brave bodies in the fight against crime. Again, the depiction of a family holding together even under the strain of the husband's commitment to his (...  \n",
       "...                                                                                                                                                                                                                                                                                                                                                                                                                                                                                                                                                                                                                        ...  \n",
       "19995  Let me begin by saying I am a big fantasy fan. However, this film is not for me. Many far-fetched arguments are trying to support this film's claim that dragons possibly ever existed. The film mentions connections in different stories from different countries, but fails to investigate them more thoroughly, which could have given the film some credibility. The film uses (nice!) CGI to tell us a narrated fantasy story on a young dragon's life. This is combined with popular-TV-show-CSI-style flash-forwards to make it look like something scientific, which it is definitely not. In many cases th...  \n",
       "19996  Well, I just ordered this on my pay-per-view at home because I was bored and needed a laugh. I have to admit, I did chuckle a few times, but I don't even remember what parts they were at. I don't understand why this movie was made. It claims to be a comedy but seriousuly, I don't find a singing penis, or a naked 70 year old woman very funny. This movie was trying to fit itself into the 'gross-out' comedies of recent years such as American Pie and Road Trip, but it just failed miserably. It was way to much gross-out then it was comedy. Also, why on earth did Cameron Diaz attach her name to ...  \n",
       "19997  I was interested in seeing this movie because I knew it was Christian based. The director had a good idea/intentions when making this movie but it could have been better. I can understand why someone would still have feelings for who they believe is the greatest love of their life. However, I didn't understand why the director made his friends so insensitive, mean and rude. The main character kept apologizing to his friends when they were the ones mean to him. They weren't understanding at all and they used God as a reason to explain their behaviors. The main character, nor anyone else did...  \n",
       "19998  A few weeks ago the German broadcaster \"SAT1\" advertised this movie as the \"TV-Event of the year\" - sorry, but I've seen better things on TV this year.<br /><br />I didn't thought much of the movie but I soon reminisced about two other horrible movies when I watched the commercial - namely Titanic and Pearl Harbor because the picture looked so familiar: The \"heroine\" (if I can really call her that) in the middle and her two \"loved-ones\" next to her - Pearl Harbor, anyone? In fact the love-story is a poor man's version of the one in Pearl Harbor and that one was already poor!<br /><br />But...  \n",
       "19999  This was talked about to death by the critics when it honestly isn't that great. Sure, \"CHAOS\" and \"INSIDE MAN\" are literally the same movie, just with variations in suspense. But I found \"CHAOS\" more enjoyable because it was fast paced kinda like the silly film \"Swordfish.\" The reason this film is more popular is because this got released in the States and \"Chaos\" was aired all around the world at film festivals and foreign theaters, but has yet to find a distributor in the U.K. and U.S.A. <br /><br />It's true that this film makes lots of tributes to classic films like DOG DAY AFTERNOON ...  \n",
       "\n",
       "[20000 rows x 2 columns]"
      ]
     },
     "metadata": {},
     "output_type": "display_data"
    }
   ],
   "source": [
    "# display(train_df[train_df[\"sentiment\"] == 2])\n",
    "display(train_df)"
   ]
  },
  {
   "cell_type": "markdown",
   "metadata": {},
   "source": [
    "Convert categorial integers `1` and `2` into labels `neg` and `pos` respectively"
   ]
  },
  {
   "cell_type": "code",
   "execution_count": 84,
   "metadata": {},
   "outputs": [
    {
     "data": {
      "text/html": [
       "<div>\n",
       "<style scoped>\n",
       "    .dataframe tbody tr th:only-of-type {\n",
       "        vertical-align: middle;\n",
       "    }\n",
       "\n",
       "    .dataframe tbody tr th {\n",
       "        vertical-align: top;\n",
       "    }\n",
       "\n",
       "    .dataframe thead th {\n",
       "        text-align: right;\n",
       "    }\n",
       "</style>\n",
       "<table border=\"1\" class=\"dataframe\">\n",
       "  <thead>\n",
       "    <tr style=\"text-align: right;\">\n",
       "      <th></th>\n",
       "      <th>sentiment</th>\n",
       "      <th>review</th>\n",
       "    </tr>\n",
       "  </thead>\n",
       "  <tbody>\n",
       "    <tr>\n",
       "      <th>0</th>\n",
       "      <td>pos</td>\n",
       "      <td>An extra is called upon to play a general in a movie about the Russian Revolution. However, he is not any ordinary extra. He is Serguis Alexander, former commanding general of the Russia armies who is now being forced to relive the same scene, which he suffered professional and personal tragedy in, to satisfy the director who was once a revolutionist in Russia and was humiliated by Alexander. It can now be the time for this broken man to finally \"win\" his penultimate battle. This is one powerful movie with meticulous direction by Von Sternberg, providing the greatest irony in Alexander's c...</td>\n",
       "    </tr>\n",
       "    <tr>\n",
       "      <th>1</th>\n",
       "      <td>pos</td>\n",
       "      <td>almost every review of this movie I'd seen was pretty bad. It's not pretty bad, it's actually pretty good, though not great. The Judy Garland character could have gotten annoying, but she didn't allow it to. Somewhere along the line, i've become a fan of brooding, overbearing, overacting Van Heflin, at least in the early 40's. Judy's singing is great, but the film missed a great chance by not showing more of their relationship. I gave it a 7.</td>\n",
       "    </tr>\n",
       "    <tr>\n",
       "      <th>2</th>\n",
       "      <td>pos</td>\n",
       "      <td>I did not have too much interest in watching The Flock.Andrew Lau co-directed the masterpiece trilogy of Infernal Affairs but he had been fired from The Flock and he had been replaced by an emergency director called Niels Mueller.I had the feeling that Lau had made a good film but it had not satisfied the study,so they fired him and hired another director.This usually does not work well (let's remember The Invasion).But The Flock resulted to be better than what I expected.It's not a great film but it's an interesting and entertaining thriller.The character development is very well done and...</td>\n",
       "    </tr>\n",
       "    <tr>\n",
       "      <th>3</th>\n",
       "      <td>neg</td>\n",
       "      <td>Ulises is a literature teacher that arrives to a coastal town. There, he will fell in love to Martina, the most beautiful girl in town. They will start a torrid romance which will end in the tragic death of Ulises at the sea. Some years later, Martina has married to Sierra, the richest man in town and lives a quiet happy live surrounded by money. One day, the apparition of Ulises will make her passion to rise up and act without thinking the consequences. The plot is quite absurd and none of the actors plays a decent part. IN addition, three quarters of the film are sexual acts, which, stil...</td>\n",
       "    </tr>\n",
       "    <tr>\n",
       "      <th>4</th>\n",
       "      <td>pos</td>\n",
       "      <td>I found The FBI Story considerably entertaining and suitably upbeat for my New Years Day holiday viewing. Its drama and action-packed episodes were thrilling. The Hardesty character was well drawn and admirable. Overall the photography, script and direction was perfectly creditable. Rather than taking the film to be a repugnant piece of propaganda, as some might, I enjoyed it as a well mounted portrayal of the necessity of ingenious minds and brave bodies in the fight against crime. Again, the depiction of a family holding together even under the strain of the husband's commitment to his (...</td>\n",
       "    </tr>\n",
       "    <tr>\n",
       "      <th>...</th>\n",
       "      <td>...</td>\n",
       "      <td>...</td>\n",
       "    </tr>\n",
       "    <tr>\n",
       "      <th>19995</th>\n",
       "      <td>neg</td>\n",
       "      <td>Let me begin by saying I am a big fantasy fan. However, this film is not for me. Many far-fetched arguments are trying to support this film's claim that dragons possibly ever existed. The film mentions connections in different stories from different countries, but fails to investigate them more thoroughly, which could have given the film some credibility. The film uses (nice!) CGI to tell us a narrated fantasy story on a young dragon's life. This is combined with popular-TV-show-CSI-style flash-forwards to make it look like something scientific, which it is definitely not. In many cases th...</td>\n",
       "    </tr>\n",
       "    <tr>\n",
       "      <th>19996</th>\n",
       "      <td>neg</td>\n",
       "      <td>Well, I just ordered this on my pay-per-view at home because I was bored and needed a laugh. I have to admit, I did chuckle a few times, but I don't even remember what parts they were at. I don't understand why this movie was made. It claims to be a comedy but seriousuly, I don't find a singing penis, or a naked 70 year old woman very funny. This movie was trying to fit itself into the 'gross-out' comedies of recent years such as American Pie and Road Trip, but it just failed miserably. It was way to much gross-out then it was comedy. Also, why on earth did Cameron Diaz attach her name to ...</td>\n",
       "    </tr>\n",
       "    <tr>\n",
       "      <th>19997</th>\n",
       "      <td>neg</td>\n",
       "      <td>I was interested in seeing this movie because I knew it was Christian based. The director had a good idea/intentions when making this movie but it could have been better. I can understand why someone would still have feelings for who they believe is the greatest love of their life. However, I didn't understand why the director made his friends so insensitive, mean and rude. The main character kept apologizing to his friends when they were the ones mean to him. They weren't understanding at all and they used God as a reason to explain their behaviors. The main character, nor anyone else did...</td>\n",
       "    </tr>\n",
       "    <tr>\n",
       "      <th>19998</th>\n",
       "      <td>neg</td>\n",
       "      <td>A few weeks ago the German broadcaster \"SAT1\" advertised this movie as the \"TV-Event of the year\" - sorry, but I've seen better things on TV this year.&lt;br /&gt;&lt;br /&gt;I didn't thought much of the movie but I soon reminisced about two other horrible movies when I watched the commercial - namely Titanic and Pearl Harbor because the picture looked so familiar: The \"heroine\" (if I can really call her that) in the middle and her two \"loved-ones\" next to her - Pearl Harbor, anyone? In fact the love-story is a poor man's version of the one in Pearl Harbor and that one was already poor!&lt;br /&gt;&lt;br /&gt;But...</td>\n",
       "    </tr>\n",
       "    <tr>\n",
       "      <th>19999</th>\n",
       "      <td>neg</td>\n",
       "      <td>This was talked about to death by the critics when it honestly isn't that great. Sure, \"CHAOS\" and \"INSIDE MAN\" are literally the same movie, just with variations in suspense. But I found \"CHAOS\" more enjoyable because it was fast paced kinda like the silly film \"Swordfish.\" The reason this film is more popular is because this got released in the States and \"Chaos\" was aired all around the world at film festivals and foreign theaters, but has yet to find a distributor in the U.K. and U.S.A. &lt;br /&gt;&lt;br /&gt;It's true that this film makes lots of tributes to classic films like DOG DAY AFTERNOON ...</td>\n",
       "    </tr>\n",
       "  </tbody>\n",
       "</table>\n",
       "<p>20000 rows × 2 columns</p>\n",
       "</div>"
      ],
      "text/plain": [
       "      sentiment  \\\n",
       "0           pos   \n",
       "1           pos   \n",
       "2           pos   \n",
       "3           neg   \n",
       "4           pos   \n",
       "...         ...   \n",
       "19995       neg   \n",
       "19996       neg   \n",
       "19997       neg   \n",
       "19998       neg   \n",
       "19999       neg   \n",
       "\n",
       "                                                                                                                                                                                                                                                                                                                                                                                                                                                                                                                                                                                                                        review  \n",
       "0      An extra is called upon to play a general in a movie about the Russian Revolution. However, he is not any ordinary extra. He is Serguis Alexander, former commanding general of the Russia armies who is now being forced to relive the same scene, which he suffered professional and personal tragedy in, to satisfy the director who was once a revolutionist in Russia and was humiliated by Alexander. It can now be the time for this broken man to finally \"win\" his penultimate battle. This is one powerful movie with meticulous direction by Von Sternberg, providing the greatest irony in Alexander's c...  \n",
       "1                                                                                                                                                               almost every review of this movie I'd seen was pretty bad. It's not pretty bad, it's actually pretty good, though not great. The Judy Garland character could have gotten annoying, but she didn't allow it to. Somewhere along the line, i've become a fan of brooding, overbearing, overacting Van Heflin, at least in the early 40's. Judy's singing is great, but the film missed a great chance by not showing more of their relationship. I gave it a 7.  \n",
       "2      I did not have too much interest in watching The Flock.Andrew Lau co-directed the masterpiece trilogy of Infernal Affairs but he had been fired from The Flock and he had been replaced by an emergency director called Niels Mueller.I had the feeling that Lau had made a good film but it had not satisfied the study,so they fired him and hired another director.This usually does not work well (let's remember The Invasion).But The Flock resulted to be better than what I expected.It's not a great film but it's an interesting and entertaining thriller.The character development is very well done and...  \n",
       "3      Ulises is a literature teacher that arrives to a coastal town. There, he will fell in love to Martina, the most beautiful girl in town. They will start a torrid romance which will end in the tragic death of Ulises at the sea. Some years later, Martina has married to Sierra, the richest man in town and lives a quiet happy live surrounded by money. One day, the apparition of Ulises will make her passion to rise up and act without thinking the consequences. The plot is quite absurd and none of the actors plays a decent part. IN addition, three quarters of the film are sexual acts, which, stil...  \n",
       "4      I found The FBI Story considerably entertaining and suitably upbeat for my New Years Day holiday viewing. Its drama and action-packed episodes were thrilling. The Hardesty character was well drawn and admirable. Overall the photography, script and direction was perfectly creditable. Rather than taking the film to be a repugnant piece of propaganda, as some might, I enjoyed it as a well mounted portrayal of the necessity of ingenious minds and brave bodies in the fight against crime. Again, the depiction of a family holding together even under the strain of the husband's commitment to his (...  \n",
       "...                                                                                                                                                                                                                                                                                                                                                                                                                                                                                                                                                                                                                        ...  \n",
       "19995  Let me begin by saying I am a big fantasy fan. However, this film is not for me. Many far-fetched arguments are trying to support this film's claim that dragons possibly ever existed. The film mentions connections in different stories from different countries, but fails to investigate them more thoroughly, which could have given the film some credibility. The film uses (nice!) CGI to tell us a narrated fantasy story on a young dragon's life. This is combined with popular-TV-show-CSI-style flash-forwards to make it look like something scientific, which it is definitely not. In many cases th...  \n",
       "19996  Well, I just ordered this on my pay-per-view at home because I was bored and needed a laugh. I have to admit, I did chuckle a few times, but I don't even remember what parts they were at. I don't understand why this movie was made. It claims to be a comedy but seriousuly, I don't find a singing penis, or a naked 70 year old woman very funny. This movie was trying to fit itself into the 'gross-out' comedies of recent years such as American Pie and Road Trip, but it just failed miserably. It was way to much gross-out then it was comedy. Also, why on earth did Cameron Diaz attach her name to ...  \n",
       "19997  I was interested in seeing this movie because I knew it was Christian based. The director had a good idea/intentions when making this movie but it could have been better. I can understand why someone would still have feelings for who they believe is the greatest love of their life. However, I didn't understand why the director made his friends so insensitive, mean and rude. The main character kept apologizing to his friends when they were the ones mean to him. They weren't understanding at all and they used God as a reason to explain their behaviors. The main character, nor anyone else did...  \n",
       "19998  A few weeks ago the German broadcaster \"SAT1\" advertised this movie as the \"TV-Event of the year\" - sorry, but I've seen better things on TV this year.<br /><br />I didn't thought much of the movie but I soon reminisced about two other horrible movies when I watched the commercial - namely Titanic and Pearl Harbor because the picture looked so familiar: The \"heroine\" (if I can really call her that) in the middle and her two \"loved-ones\" next to her - Pearl Harbor, anyone? In fact the love-story is a poor man's version of the one in Pearl Harbor and that one was already poor!<br /><br />But...  \n",
       "19999  This was talked about to death by the critics when it honestly isn't that great. Sure, \"CHAOS\" and \"INSIDE MAN\" are literally the same movie, just with variations in suspense. But I found \"CHAOS\" more enjoyable because it was fast paced kinda like the silly film \"Swordfish.\" The reason this film is more popular is because this got released in the States and \"Chaos\" was aired all around the world at film festivals and foreign theaters, but has yet to find a distributor in the U.K. and U.S.A. <br /><br />It's true that this film makes lots of tributes to classic films like DOG DAY AFTERNOON ...  \n",
       "\n",
       "[20000 rows x 2 columns]"
      ]
     },
     "metadata": {},
     "output_type": "display_data"
    }
   ],
   "source": [
    "def apply_df_transform(df):\n",
    "    df[\"sentiment\"] = df['sentiment'].apply(lambda x: \"neg\" if x == 1 else (\"pos\" if x == 2 else x))\n",
    "\n",
    "for df in [test_df, train_df, val_df]:\n",
    "    apply_df_transform(df)\n",
    "    \n",
    "display(train_df)"
   ]
  },
  {
   "cell_type": "markdown",
   "metadata": {},
   "source": [
    "Encoding unique tokens (~words) to numeric values"
   ]
  },
  {
   "cell_type": "code",
   "execution_count": 8,
   "metadata": {},
   "outputs": [],
   "source": [
    "from fastai.text.all import *"
   ]
  },
  {
   "cell_type": "code",
   "execution_count": 11,
   "metadata": {},
   "outputs": [
    {
     "ename": "ValueError",
     "evalue": "[E088] Text of length 26603675 exceeds maximum of 1000000. The parser and NER models require roughly 1GB of temporary memory per 100,000 characters in the input. This means long texts may cause memory allocation errors. If you're not using the parser or NER, it's probably safe to increase the `nlp.max_length` limit. The limit is in number of characters, so you can check whether your inputs are too long by checking `len(text)`.",
     "output_type": "error",
     "traceback": [
      "\u001b[0;31m---------------------------------------------------------------------------\u001b[0m",
      "\u001b[0;31mValueError\u001b[0m                                Traceback (most recent call last)",
      "Cell \u001b[0;32mIn[11], line 2\u001b[0m\n\u001b[1;32m      1\u001b[0m tokenizer \u001b[38;5;241m=\u001b[39m WordTokenizer()\n\u001b[0;32m----> 2\u001b[0m toks \u001b[38;5;241m=\u001b[39m \u001b[43mfirst\u001b[49m\u001b[43m(\u001b[49m\u001b[43mtokenizer\u001b[49m\u001b[43m(\u001b[49m\u001b[43m[\u001b[49m\u001b[38;5;28;43mlist\u001b[39;49m\u001b[43m(\u001b[49m\u001b[43mtrain_dataset\u001b[49m\u001b[43m)\u001b[49m\u001b[43m]\u001b[49m\u001b[43m)\u001b[49m\u001b[43m)\u001b[49m\n\u001b[1;32m      3\u001b[0m toks\n",
      "File \u001b[0;32m~/.pyenv/versions/3.12.2/envs/torch/lib/python3.12/site-packages/fastcore/basics.py:660\u001b[0m, in \u001b[0;36mfirst\u001b[0;34m(x, f, negate, **kwargs)\u001b[0m\n\u001b[1;32m    658\u001b[0m x \u001b[38;5;241m=\u001b[39m \u001b[38;5;28miter\u001b[39m(x)\n\u001b[1;32m    659\u001b[0m \u001b[38;5;28;01mif\u001b[39;00m f: x \u001b[38;5;241m=\u001b[39m filter_ex(x, f\u001b[38;5;241m=\u001b[39mf, negate\u001b[38;5;241m=\u001b[39mnegate, gen\u001b[38;5;241m=\u001b[39m\u001b[38;5;28;01mTrue\u001b[39;00m, \u001b[38;5;241m*\u001b[39m\u001b[38;5;241m*\u001b[39mkwargs)\n\u001b[0;32m--> 660\u001b[0m \u001b[38;5;28;01mreturn\u001b[39;00m \u001b[38;5;28;43mnext\u001b[39;49m\u001b[43m(\u001b[49m\u001b[43mx\u001b[49m\u001b[43m,\u001b[49m\u001b[43m \u001b[49m\u001b[38;5;28;43;01mNone\u001b[39;49;00m\u001b[43m)\u001b[49m\n",
      "File \u001b[0;32m~/.pyenv/versions/3.12.2/envs/torch/lib/python3.12/site-packages/fastai/text/core.py:124\u001b[0m, in \u001b[0;36m<genexpr>\u001b[0;34m(.0)\u001b[0m\n\u001b[1;32m    123\u001b[0m \u001b[38;5;28;01mdef\u001b[39;00m \u001b[38;5;21m__call__\u001b[39m(\u001b[38;5;28mself\u001b[39m, items):\n\u001b[0;32m--> 124\u001b[0m     \u001b[38;5;28;01mreturn\u001b[39;00m \u001b[43m(\u001b[49m\u001b[43mL\u001b[49m\u001b[43m(\u001b[49m\u001b[43mdoc\u001b[49m\u001b[43m)\u001b[49m\u001b[38;5;241;43m.\u001b[39;49m\u001b[43mattrgot\u001b[49m\u001b[43m(\u001b[49m\u001b[38;5;124;43m'\u001b[39;49m\u001b[38;5;124;43mtext\u001b[39;49m\u001b[38;5;124;43m'\u001b[39;49m\u001b[43m)\u001b[49m\u001b[43m \u001b[49m\u001b[38;5;28;43;01mfor\u001b[39;49;00m\u001b[43m \u001b[49m\u001b[43mdoc\u001b[49m\u001b[43m \u001b[49m\u001b[38;5;129;43;01min\u001b[39;49;00m\u001b[43m \u001b[49m\u001b[38;5;28;43mself\u001b[39;49m\u001b[38;5;241;43m.\u001b[39;49m\u001b[43mpipe\u001b[49m\u001b[43m(\u001b[49m\u001b[38;5;28;43mmap\u001b[39;49m\u001b[43m(\u001b[49m\u001b[38;5;28;43mstr\u001b[39;49m\u001b[43m,\u001b[49m\u001b[43mitems\u001b[49m\u001b[43m)\u001b[49m\u001b[43m,\u001b[49m\u001b[43m \u001b[49m\u001b[43mbatch_size\u001b[49m\u001b[38;5;241;43m=\u001b[39;49m\u001b[38;5;28;43mself\u001b[39;49m\u001b[38;5;241;43m.\u001b[39;49m\u001b[43mbuf_sz\u001b[49m\u001b[43m)\u001b[49m\u001b[43m)\u001b[49m\n",
      "File \u001b[0;32m~/.pyenv/versions/3.12.2/envs/torch/lib/python3.12/site-packages/spacy/language.py:1618\u001b[0m, in \u001b[0;36mLanguage.pipe\u001b[0;34m(self, texts, as_tuples, batch_size, disable, component_cfg, n_process)\u001b[0m\n\u001b[1;32m   1616\u001b[0m     \u001b[38;5;28;01mfor\u001b[39;00m pipe \u001b[38;5;129;01min\u001b[39;00m pipes:\n\u001b[1;32m   1617\u001b[0m         docs \u001b[38;5;241m=\u001b[39m pipe(docs)\n\u001b[0;32m-> 1618\u001b[0m \u001b[43m\u001b[49m\u001b[38;5;28;43;01mfor\u001b[39;49;00m\u001b[43m \u001b[49m\u001b[43mdoc\u001b[49m\u001b[43m \u001b[49m\u001b[38;5;129;43;01min\u001b[39;49;00m\u001b[43m \u001b[49m\u001b[43mdocs\u001b[49m\u001b[43m:\u001b[49m\n\u001b[1;32m   1619\u001b[0m \u001b[43m    \u001b[49m\u001b[38;5;28;43;01myield\u001b[39;49;00m\u001b[43m \u001b[49m\u001b[43mdoc\u001b[49m\n",
      "File \u001b[0;32m~/.pyenv/versions/3.12.2/envs/torch/lib/python3.12/site-packages/spacy/language.py:1615\u001b[0m, in \u001b[0;36m<genexpr>\u001b[0;34m(.0)\u001b[0m\n\u001b[1;32m   1612\u001b[0m     docs \u001b[38;5;241m=\u001b[39m \u001b[38;5;28mself\u001b[39m\u001b[38;5;241m.\u001b[39m_multiprocessing_pipe(texts, pipes, n_process, batch_size)\n\u001b[1;32m   1613\u001b[0m \u001b[38;5;28;01melse\u001b[39;00m:\n\u001b[1;32m   1614\u001b[0m     \u001b[38;5;66;03m# if n_process == 1, no processes are forked.\u001b[39;00m\n\u001b[0;32m-> 1615\u001b[0m     docs \u001b[38;5;241m=\u001b[39m (\u001b[38;5;28;43mself\u001b[39;49m\u001b[38;5;241;43m.\u001b[39;49m\u001b[43m_ensure_doc\u001b[49m\u001b[43m(\u001b[49m\u001b[43mtext\u001b[49m\u001b[43m)\u001b[49m \u001b[38;5;28;01mfor\u001b[39;00m text \u001b[38;5;129;01min\u001b[39;00m texts)\n\u001b[1;32m   1616\u001b[0m     \u001b[38;5;28;01mfor\u001b[39;00m pipe \u001b[38;5;129;01min\u001b[39;00m pipes:\n\u001b[1;32m   1617\u001b[0m         docs \u001b[38;5;241m=\u001b[39m pipe(docs)\n",
      "File \u001b[0;32m~/.pyenv/versions/3.12.2/envs/torch/lib/python3.12/site-packages/spacy/language.py:1128\u001b[0m, in \u001b[0;36mLanguage._ensure_doc\u001b[0;34m(self, doc_like)\u001b[0m\n\u001b[1;32m   1126\u001b[0m     \u001b[38;5;28;01mreturn\u001b[39;00m doc_like\n\u001b[1;32m   1127\u001b[0m \u001b[38;5;28;01mif\u001b[39;00m \u001b[38;5;28misinstance\u001b[39m(doc_like, \u001b[38;5;28mstr\u001b[39m):\n\u001b[0;32m-> 1128\u001b[0m     \u001b[38;5;28;01mreturn\u001b[39;00m \u001b[38;5;28;43mself\u001b[39;49m\u001b[38;5;241;43m.\u001b[39;49m\u001b[43mmake_doc\u001b[49m\u001b[43m(\u001b[49m\u001b[43mdoc_like\u001b[49m\u001b[43m)\u001b[49m\n\u001b[1;32m   1129\u001b[0m \u001b[38;5;28;01mif\u001b[39;00m \u001b[38;5;28misinstance\u001b[39m(doc_like, \u001b[38;5;28mbytes\u001b[39m):\n\u001b[1;32m   1130\u001b[0m     \u001b[38;5;28;01mreturn\u001b[39;00m Doc(\u001b[38;5;28mself\u001b[39m\u001b[38;5;241m.\u001b[39mvocab)\u001b[38;5;241m.\u001b[39mfrom_bytes(doc_like)\n",
      "File \u001b[0;32m~/.pyenv/versions/3.12.2/envs/torch/lib/python3.12/site-packages/spacy/language.py:1117\u001b[0m, in \u001b[0;36mLanguage.make_doc\u001b[0;34m(self, text)\u001b[0m\n\u001b[1;32m   1111\u001b[0m \u001b[38;5;250m\u001b[39m\u001b[38;5;124;03m\"\"\"Turn a text into a Doc object.\u001b[39;00m\n\u001b[1;32m   1112\u001b[0m \n\u001b[1;32m   1113\u001b[0m \u001b[38;5;124;03mtext (str): The text to process.\u001b[39;00m\n\u001b[1;32m   1114\u001b[0m \u001b[38;5;124;03mRETURNS (Doc): The processed doc.\u001b[39;00m\n\u001b[1;32m   1115\u001b[0m \u001b[38;5;124;03m\"\"\"\u001b[39;00m\n\u001b[1;32m   1116\u001b[0m \u001b[38;5;28;01mif\u001b[39;00m \u001b[38;5;28mlen\u001b[39m(text) \u001b[38;5;241m>\u001b[39m \u001b[38;5;28mself\u001b[39m\u001b[38;5;241m.\u001b[39mmax_length:\n\u001b[0;32m-> 1117\u001b[0m     \u001b[38;5;28;01mraise\u001b[39;00m \u001b[38;5;167;01mValueError\u001b[39;00m(\n\u001b[1;32m   1118\u001b[0m         Errors\u001b[38;5;241m.\u001b[39mE088\u001b[38;5;241m.\u001b[39mformat(length\u001b[38;5;241m=\u001b[39m\u001b[38;5;28mlen\u001b[39m(text), max_length\u001b[38;5;241m=\u001b[39m\u001b[38;5;28mself\u001b[39m\u001b[38;5;241m.\u001b[39mmax_length)\n\u001b[1;32m   1119\u001b[0m     )\n\u001b[1;32m   1120\u001b[0m \u001b[38;5;28;01mreturn\u001b[39;00m \u001b[38;5;28mself\u001b[39m\u001b[38;5;241m.\u001b[39mtokenizer(text)\n",
      "\u001b[0;31mValueError\u001b[0m: [E088] Text of length 26603675 exceeds maximum of 1000000. The parser and NER models require roughly 1GB of temporary memory per 100,000 characters in the input. This means long texts may cause memory allocation errors. If you're not using the parser or NER, it's probably safe to increase the `nlp.max_length` limit. The limit is in number of characters, so you can check whether your inputs are too long by checking `len(text)`."
     ]
    }
   ],
   "source": [
    "tokenizer = WordTokenizer()\n",
    "toks = first(tokenizer([list(train_dataset)]))\n",
    "toks"
   ]
  },
  {
   "cell_type": "code",
   "execution_count": null,
   "metadata": {},
   "outputs": [],
   "source": []
  }
 ],
 "metadata": {
  "kernelspec": {
   "display_name": "Python 3",
   "language": "python",
   "name": "python3"
  },
  "language_info": {
   "codemirror_mode": {
    "name": "ipython",
    "version": 3
   },
   "file_extension": ".py",
   "mimetype": "text/x-python",
   "name": "python",
   "nbconvert_exporter": "python",
   "pygments_lexer": "ipython3",
   "version": "3.8.16"
  }
 },
 "nbformat": 4,
 "nbformat_minor": 2
}
