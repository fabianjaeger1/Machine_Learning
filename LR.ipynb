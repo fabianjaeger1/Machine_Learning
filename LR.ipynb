{
 "cells": [
  {
   "cell_type": "markdown",
   "metadata": {},
   "source": [
    "## Bayesian Linear Regression"
   ]
  },
  {
   "cell_type": "code",
   "execution_count": null,
   "metadata": {},
   "outputs": [],
   "source": [
    "!pip install pymc\n",
    "\n",
    "# TODO Implement"
   ]
  },
  {
   "cell_type": "code",
   "execution_count": null,
   "metadata": {},
   "outputs": [],
   "source": []
  },
  {
   "cell_type": "markdown",
   "metadata": {},
   "source": [
    "## Linear Regression using Torch"
   ]
  },
  {
   "cell_type": "code",
   "execution_count": 1,
   "metadata": {},
   "outputs": [],
   "source": [
    "import torch\n",
    "import matplotlib.pyplot as plt\n",
    "import numpy as np"
   ]
  },
  {
   "cell_type": "code",
   "execution_count": 2,
   "metadata": {},
   "outputs": [],
   "source": [
    "X_train = np.arange(10, dtype='float32').reshape((10, 1)) \n",
    "# X_train = X_train.reshape(1, 10).squeeze()\n",
    "Y_train = np.array([1.0, 1.3, 3.1, 2.0, 5.0, 6.3, 6.6,7.4, 8.0,9.0], dtype='float32')"
   ]
  },
  {
   "cell_type": "code",
   "execution_count": 3,
   "metadata": {},
   "outputs": [
    {
     "data": {
      "image/png": "[encoded data removed]",
      "text/plain": [
       "<Figure size 640x480 with 1 Axes>"
      ]
     },
     "metadata": {},
     "output_type": "display_data"
    }
   ],
   "source": [
    "plt.plot(X_train, Y_train, 'o', label='Training data')\n",
    "plt.show()"
   ]
  },
  {
   "cell_type": "markdown",
   "metadata": {},
   "source": [
    "### Standardize features"
   ]
  },
  {
   "cell_type": "code",
   "execution_count": 4,
   "metadata": {},
   "outputs": [
    {
     "data": {
      "image/png": "[encoded data removed]",
      "text/plain": [
       "<Figure size 640x480 with 1 Axes>"
      ]
     },
     "metadata": {},
     "output_type": "display_data"
    }
   ],
   "source": [
    "X_norm = (X_train - X_train.mean()) / X_train.std()\n",
    "\n",
    "\n",
    "# Transform both numpy arrays to PyTorch tensors\n",
    "X_train = torch.from_numpy(X_norm).float() \n",
    "Y_train = torch.from_numpy(Y_train).float()\n",
    "\n",
    "plt.plot(X_norm, Y_train, 'o', label='Training data')\n",
    "plt.show()"
   ]
  },
  {
   "cell_type": "markdown",
   "metadata": {},
   "source": [
    "### Prepare Data"
   ]
  },
  {
   "cell_type": "code",
   "execution_count": 5,
   "metadata": {},
   "outputs": [
    {
     "name": "stdout",
     "output_type": "stream",
     "text": [
      "0 [tensor([[-1.2185]]), tensor([1.3000])]\n",
      "1 [tensor([[1.5667]]), tensor([9.])]\n",
      "2 [tensor([[-0.5222]]), tensor([2.])]\n",
      "3 [tensor([[0.8704]]), tensor([7.4000])]\n",
      "4 [tensor([[0.5222]]), tensor([6.6000])]\n",
      "5 [tensor([[-0.8704]]), tensor([3.1000])]\n",
      "6 [tensor([[1.2185]]), tensor([8.])]\n",
      "7 [tensor([[0.1741]]), tensor([6.3000])]\n",
      "8 [tensor([[-0.1741]]), tensor([5.])]\n",
      "9 [tensor([[-1.5667]]), tensor([1.])]\n"
     ]
    }
   ],
   "source": [
    "from torch.utils.data import Dataset, TensorDataset\n",
    "from torch.utils.data import DataLoader\n",
    "\n",
    "class JointDataset(Dataset):\n",
    "    def __init__(self, x, y):\n",
    "        self.x = x\n",
    "        self.y = y\n",
    "    \n",
    "    def __len__(self):\n",
    "        return len(self.x)\n",
    "    \n",
    "    def __getitem__(self, idx):\n",
    "        return self.x[idx], self.y[idx]\n",
    "    \n",
    "    \n",
    "bs = 1\n",
    "# dataset = JointDataset(X_norm, Y_train)\n",
    "dataset = TensorDataset(X_train, Y_train)\n",
    "dataloader = DataLoader(dataset, batch_size=bs, shuffle=True)\n",
    "\n",
    "for i, batch in enumerate(dataloader):\n",
    "    print(i, batch)"
   ]
  },
  {
   "cell_type": "code",
   "execution_count": 6,
   "metadata": {},
   "outputs": [],
   "source": [
    "torch.manual_seed(1)\n",
    "\n",
    "weight = torch.randn(1, requires_grad=True)\n",
    "bias = torch.zeros(1, requires_grad=True)\n",
    "\n",
    "def model(xb):\n",
    "    return xb * weight + bias\n",
    "\n",
    "def loss_fn(target, input):\n",
    "    return (input - target).pow(2).mean()"
   ]
  },
  {
   "cell_type": "markdown",
   "metadata": {},
   "source": [
    "### Explicit training loop (SGD)"
   ]
  },
  {
   "cell_type": "code",
   "execution_count": 7,
   "metadata": {},
   "outputs": [
    {
     "name": "stdout",
     "output_type": "stream",
     "text": [
      "Epoch 0  Loss 39.8977\n",
      "Epoch 10  Loss 23.7719\n",
      "Epoch 20  Loss 1.0158\n",
      "Epoch 30  Loss 14.8444\n",
      "Epoch 40  Loss 12.4277\n",
      "Epoch 50  Loss 4.9904\n",
      "Epoch 60  Loss 0.7894\n",
      "Epoch 70  Loss 3.7337\n",
      "Epoch 80  Loss 2.3939\n",
      "Epoch 90  Loss 0.4472\n",
      "Epoch 100  Loss 1.1216\n",
      "Epoch 110  Loss 1.3220\n",
      "Epoch 120  Loss 0.1076\n",
      "Epoch 130  Loss 0.5718\n",
      "Epoch 140  Loss 0.2256\n",
      "Epoch 150  Loss 1.4922\n",
      "Epoch 160  Loss 0.0495\n",
      "Epoch 170  Loss 0.0064\n",
      "Epoch 180  Loss 0.0017\n",
      "Epoch 190  Loss 0.0305\n",
      "Epoch 200  Loss 0.0092\n",
      "Epoch 210  Loss 0.0014\n",
      "Epoch 220  Loss 0.1782\n",
      "Epoch 230  Loss 0.6164\n",
      "Epoch 240  Loss 0.2676\n",
      "Epoch 250  Loss 0.2712\n",
      "Epoch 260  Loss 0.4788\n",
      "Epoch 270  Loss 1.9238\n",
      "Epoch 280  Loss 0.0017\n",
      "Epoch 290  Loss 0.0021\n",
      "Epoch 300  Loss 0.0004\n",
      "Epoch 310  Loss 0.4584\n",
      "Epoch 320  Loss 0.2831\n",
      "Epoch 330  Loss 0.4543\n",
      "Epoch 340  Loss 0.4527\n",
      "Epoch 350  Loss 1.9607\n",
      "Epoch 360  Loss 0.0385\n",
      "Epoch 370  Loss 0.0169\n",
      "Epoch 380  Loss 0.2862\n",
      "Epoch 390  Loss 0.2863\n",
      "Epoch 400  Loss 0.0000\n",
      "Epoch 410  Loss 0.2873\n",
      "Epoch 420  Loss 0.0396\n",
      "Epoch 430  Loss 0.2871\n",
      "Epoch 440  Loss 0.0176\n",
      "Epoch 450  Loss 0.1623\n",
      "Epoch 460  Loss 0.5408\n",
      "Epoch 470  Loss 0.0044\n",
      "Epoch 480  Loss 0.0178\n",
      "Epoch 490  Loss 0.0000\n",
      "Epoch 500  Loss 0.1623\n",
      "Epoch 510  Loss 0.2864\n",
      "Epoch 520  Loss 0.0044\n",
      "Epoch 530  Loss 0.5402\n",
      "Epoch 540  Loss 0.0178\n",
      "Epoch 550  Loss 0.0401\n",
      "Epoch 560  Loss 0.5402\n",
      "Epoch 570  Loss 0.0000\n",
      "Epoch 580  Loss 0.0000\n",
      "Epoch 590  Loss 1.9696\n",
      "Epoch 600  Loss 0.5403\n",
      "Epoch 610  Loss 1.9692\n",
      "Epoch 620  Loss 1.9693\n",
      "Epoch 630  Loss 0.0000\n",
      "Epoch 640  Loss 0.0045\n",
      "Epoch 650  Loss 0.0401\n",
      "Epoch 660  Loss 0.0401\n",
      "Epoch 670  Loss 0.2871\n",
      "Epoch 680  Loss 0.4465\n",
      "Epoch 690  Loss 1.9692\n",
      "Epoch 700  Loss 0.0178\n",
      "Epoch 710  Loss 0.2868\n",
      "Epoch 720  Loss 0.0000\n",
      "Epoch 730  Loss 0.1625\n",
      "Epoch 740  Loss 0.0178\n",
      "Epoch 750  Loss 1.9692\n",
      "Epoch 760  Loss 0.0000\n",
      "Epoch 770  Loss 0.0000\n",
      "Epoch 780  Loss 0.2865\n",
      "Epoch 790  Loss 0.0000\n",
      "Epoch 800  Loss 1.9697\n",
      "Epoch 810  Loss 0.0179\n",
      "Epoch 820  Loss 0.0000\n",
      "Epoch 830  Loss 1.9699\n",
      "Epoch 840  Loss 0.2873\n",
      "Epoch 850  Loss 0.0000\n",
      "Epoch 860  Loss 0.0179\n",
      "Epoch 870  Loss 0.1622\n",
      "Epoch 880  Loss 0.1621\n",
      "Epoch 890  Loss 0.5397\n",
      "Epoch 900  Loss 0.0179\n",
      "Epoch 910  Loss 1.9705\n",
      "Epoch 920  Loss 0.0045\n",
      "Epoch 930  Loss 0.2872\n",
      "Epoch 940  Loss 0.4464\n",
      "Epoch 950  Loss 0.2865\n",
      "Epoch 960  Loss 0.0000\n",
      "Epoch 970  Loss 1.9696\n",
      "Epoch 980  Loss 0.4463\n",
      "Epoch 990  Loss 0.0402\n"
     ]
    }
   ],
   "source": [
    "lr = 0.001\n",
    "num_epochs = 1000\n",
    "log_epochs = 10\n",
    "\n",
    "for epoch in range(num_epochs):\n",
    "    for i, batch in enumerate(dataloader):\n",
    "        x_batch = batch[0]\n",
    "        y_batch = batch[1]\n",
    "        pred = model(x_batch)\n",
    "        # Compute the loss between predicted and target linear regression prediction\n",
    "        loss = loss_fn(input = pred, target = y_batch.long())\n",
    "        # Backpropagate the error\n",
    "        loss.backward()\n",
    "        # Perform gradient descent step by updating model parameters weights and biases (perform update rule)\n",
    "        with torch.no_grad():\n",
    "            # Update the parameters with a SGD update step\n",
    "            weight -= weight.grad * lr\n",
    "            bias -= bias.grad * lr\n",
    "            # Reset the gradients\n",
    "            weight.grad.zero_()\n",
    "            bias.grad.zero_()\n",
    "    if epoch % log_epochs == 0:\n",
    "        print(f'Epoch {epoch}  Loss {loss.item():.4f}')"
   ]
  },
  {
   "cell_type": "code",
   "execution_count": 8,
   "metadata": {},
   "outputs": [
    {
     "name": "stdout",
     "output_type": "stream",
     "text": [
      "Final Parameters: 2.6806108951568604 4.800034523010254\n",
      "torch.Size([10])\n"
     ]
    },
    {
     "data": {
      "image/png": "[encoded data removed]",
      "text/plain": [
       "<Figure size 600x400 with 1 Axes>"
      ]
     },
     "metadata": {},
     "output_type": "display_data"
    }
   ],
   "source": [
    "print('Final Parameters:', weight.item(), bias.item())\n",
    "\n",
    "print(Y_train.shape)\n",
    "\n",
    "Y_pred = model(X_train).detach()\n",
    "Y_pred = Y_pred.numpy()\n",
    "\n",
    "fig,ax = plt.subplots(figsize = (6,4))\n",
    "\n",
    "ax.plot(X_train, Y_pred, '--', label = 'Linear regression fit')\n",
    "ax.plot(X_train, Y_train, 'x', label = 'Training points')\n",
    "ax.legend()\n",
    "ax.set_ylabel(\"y\")\n",
    "ax.set_xlabel(\"x\")\n",
    "plt.show()"
   ]
  },
  {
   "cell_type": "markdown",
   "metadata": {},
   "source": [
    "### Model training with torch.nn"
   ]
  },
  {
   "cell_type": "code",
   "execution_count": 9,
   "metadata": {},
   "outputs": [
    {
     "name": "stderr",
     "output_type": "stream",
     "text": [
      "/Users/fabianjaeger/miniconda3/envs/torch/lib/python3.10/site-packages/torch/nn/modules/loss.py:535: UserWarning: Using a target size (torch.Size([])) that is different to the input size (torch.Size([1])). This will likely lead to incorrect results due to broadcasting. Please ensure they have the same size.\n",
      "  return F.mse_loss(input, target, reduction=self.reduction)\n"
     ]
    },
    {
     "name": "stdout",
     "output_type": "stream",
     "text": [
      "Epoch 0  Loss 31.0570\n",
      "Epoch 10  Loss 3.9904\n",
      "Epoch 20  Loss 21.0380\n",
      "Epoch 30  Loss 6.1255\n",
      "Epoch 40  Loss 11.0846\n",
      "Epoch 50  Loss 7.1023\n",
      "Epoch 60  Loss 0.8610\n",
      "Epoch 70  Loss 2.8757\n",
      "Epoch 80  Loss 2.3184\n",
      "Epoch 90  Loss 3.2943\n",
      "Epoch 100  Loss 0.6521\n",
      "Epoch 110  Loss 1.1679\n",
      "Epoch 120  Loss 0.6493\n",
      "Epoch 130  Loss 0.7689\n",
      "Epoch 140  Loss 0.2630\n",
      "Epoch 150  Loss 0.1877\n",
      "Epoch 160  Loss 0.2315\n",
      "Epoch 170  Loss 0.0060\n",
      "Epoch 180  Loss 0.0868\n",
      "Epoch 190  Loss 0.0085\n",
      "Epoch 200  Loss 0.0426\n",
      "Epoch 210  Loss 0.0067\n",
      "Epoch 220  Loss 2.2721\n",
      "Epoch 230  Loss 0.1186\n",
      "Epoch 240  Loss 0.2956\n",
      "Epoch 250  Loss 0.0679\n",
      "Epoch 260  Loss 0.1279\n",
      "Epoch 270  Loss 0.2754\n",
      "Epoch 280  Loss 0.0325\n",
      "Epoch 290  Loss 0.0346\n",
      "Epoch 300  Loss 0.2651\n",
      "Epoch 310  Loss 0.0079\n",
      "Epoch 320  Loss 0.2609\n",
      "Epoch 330  Loss 0.0761\n",
      "Epoch 340  Loss 0.1367\n",
      "Epoch 350  Loss 0.2572\n",
      "Epoch 360  Loss 0.1377\n",
      "Epoch 370  Loss 0.0701\n",
      "Epoch 380  Loss 0.2549\n",
      "Epoch 390  Loss 0.0749\n",
      "Epoch 400  Loss 2.4301\n",
      "Epoch 410  Loss 0.1389\n",
      "Epoch 420  Loss 0.0746\n",
      "Epoch 430  Loss 0.0057\n",
      "Epoch 440  Loss 0.2384\n",
      "Epoch 450  Loss 0.7419\n",
      "Epoch 460  Loss 0.0743\n",
      "Epoch 470  Loss 0.0473\n",
      "Epoch 480  Loss 0.1394\n",
      "Epoch 490  Loss 0.2526\n",
      "Epoch 500  Loss 0.0056\n",
      "Epoch 510  Loss 0.2380\n",
      "Epoch 520  Loss 0.0056\n",
      "Epoch 530  Loss 0.0472\n",
      "Epoch 540  Loss 0.1395\n",
      "Epoch 550  Loss 0.0743\n",
      "Epoch 560  Loss 0.7409\n",
      "Epoch 570  Loss 0.2379\n",
      "Epoch 580  Loss 0.7409\n",
      "Epoch 590  Loss 0.2523\n",
      "Epoch 600  Loss 0.1395\n",
      "Epoch 610  Loss 0.2523\n",
      "Epoch 620  Loss 0.0726\n",
      "Epoch 630  Loss 0.0726\n",
      "Epoch 640  Loss 0.2379\n",
      "Epoch 650  Loss 0.0743\n",
      "Epoch 660  Loss 0.0471\n",
      "Epoch 670  Loss 2.4343\n",
      "Epoch 680  Loss 0.2524\n",
      "Epoch 690  Loss 0.2379\n",
      "Epoch 700  Loss 0.0726\n",
      "Epoch 710  Loss 0.0726\n",
      "Epoch 720  Loss 0.0472\n",
      "Epoch 730  Loss 2.4345\n",
      "Epoch 740  Loss 0.0055\n",
      "Epoch 750  Loss 0.1393\n",
      "Epoch 760  Loss 0.0745\n",
      "Epoch 770  Loss 0.2524\n",
      "Epoch 780  Loss 0.2523\n",
      "Epoch 790  Loss 0.2522\n",
      "Epoch 800  Loss 0.2378\n",
      "Epoch 810  Loss 0.7408\n",
      "Epoch 820  Loss 0.0450\n",
      "Epoch 830  Loss 0.0450\n",
      "Epoch 840  Loss 0.2379\n",
      "Epoch 850  Loss 2.4345\n",
      "Epoch 860  Loss 0.0450\n",
      "Epoch 870  Loss 0.2523\n",
      "Epoch 880  Loss 0.2377\n",
      "Epoch 890  Loss 0.0727\n",
      "Epoch 900  Loss 0.2523\n",
      "Epoch 910  Loss 2.4345\n",
      "Epoch 920  Loss 0.0727\n",
      "Epoch 930  Loss 0.0450\n",
      "Epoch 940  Loss 0.0742\n",
      "Epoch 950  Loss 0.0450\n",
      "Epoch 960  Loss 0.0055\n",
      "Epoch 970  Loss 0.0055\n",
      "Epoch 980  Loss 0.0450\n",
      "Epoch 990  Loss 0.2523\n"
     ]
    }
   ],
   "source": [
    "import torch.nn as nn\n",
    "\n",
    "input_size = 1\n",
    "output_size = 1\n",
    "model = nn.Linear(input_size, output_size)\n",
    "\n",
    "# Define loss function\n",
    "loss_fn = nn.MSELoss(reduction=\"mean\")\n",
    "\n",
    "# Define a SGD optimizer\n",
    "optimizer = torch.optim.SGD(model.parameters(), lr = lr)\n",
    "\n",
    "for epoch in range(num_epochs):\n",
    "    for i, batch in enumerate(dataloader):\n",
    "        x_batch = batch[0]\n",
    "        y_batch = batch[1] \n",
    "        # 1) Get model predictions\n",
    "        y_pred = model(x_batch).squeeze()\n",
    "        # 2) Calculate the loss\n",
    "        loss = loss_fn(y_batch, y_pred)\n",
    "        # 3) Call backprop to compute the gradients\n",
    "        loss.backward()\n",
    "        # 4) Perform a gradient update step to update parameters\n",
    "        optimizer.step()\n",
    "        # 5) Reset gradients\n",
    "        optimizer.zero_grad()\n",
    "    if epoch % log_epochs==0:\n",
    "        print(f'Epoch {epoch}  Loss {loss.item():.4f}')"
   ]
  },
  {
   "cell_type": "code",
   "execution_count": 10,
   "metadata": {},
   "outputs": [
    {
     "name": "stdout",
     "output_type": "stream",
     "text": [
      "Final Parameters: 2.706681966781616 4.969986915588379\n"
     ]
    }
   ],
   "source": [
    "print(\"Final Parameters:\", model.weight.item(), model.bias.item())"
   ]
  }
 ],
 "metadata": {
  "kernelspec": {
   "display_name": "pytorch",
   "language": "python",
   "name": "python3"
  },
  "language_info": {
   "codemirror_mode": {
    "name": "ipython",
    "version": 3
   },
   "file_extension": ".py",
   "mimetype": "text/x-python",
   "name": "python",
   "nbconvert_exporter": "python",
   "pygments_lexer": "ipython3",
   "version": "3.8.16"
  }
 },
 "nbformat": 4,
 "nbformat_minor": 2
}
