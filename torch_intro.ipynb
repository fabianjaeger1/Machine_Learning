{
 "cells": [
  {
   "cell_type": "markdown",
   "metadata": {},
   "source": [
    "# Fashion-MNIST FF-Neural Network torch intro\n",
    "The `torch.nn` namespace provides all the building blocks you need to build your own neural network. \n",
    "\n",
    "Every module in PyTorch subclasses the `nn.Module`."
   ]
  },
  {
   "cell_type": "code",
   "execution_count": 1,
   "metadata": {},
   "outputs": [],
   "source": [
    "import os\n",
    "import torch\n",
    "from torch import nn"
   ]
  },
  {
   "cell_type": "code",
   "execution_count": 2,
   "metadata": {},
   "outputs": [
    {
     "name": "stdout",
     "output_type": "stream",
     "text": [
      "Using mps device\n"
     ]
    }
   ],
   "source": [
    "device = (\n",
    "    \"cuda\"\n",
    "    if torch.cuda.is_available()\n",
    "    else \"mps\"\n",
    "    if torch.backends.mps.is_available()\n",
    "    else \"cpu\"\n",
    ")\n",
    "print(f\"Using {device} device\")"
   ]
  },
  {
   "cell_type": "markdown",
   "metadata": {},
   "source": [
    "### Define a FF-Neural Network class\n",
    "We define our neural network by subclassing nn.Module, and initialize the neural network layers in `__init__`. \n",
    "\n",
    "Every `nn.Module `subclass implements the operations on input data in the forward method.\n",
    "\n",
    "Below, before we call the forward of the feed-forward method we **flatten** the input tensor. In many cases, such as in cases of image data, the data is represented as a multi-dimensional array of tensor, for example [batch_size, 28, 28] for a batch of images with 28x28 pixels. To make such data compatible with a standard fully connected we have to flatten it so that each pixel correspond to a neuron in the network at the input "
   ]
  },
  {
   "cell_type": "code",
   "execution_count": 3,
   "metadata": {},
   "outputs": [],
   "source": [
    "class NeuralNetwork(nn.Module):\n",
    "    def __init__(self):\n",
    "        super().__init__()\n",
    "        self.flatten = nn.Flatten()\n",
    "        self.linear_relu_stack = nn.Sequential(\n",
    "            nn.Linear(28*28, 512),\n",
    "            nn.ReLU(),\n",
    "            nn.Linear(512, 512),\n",
    "            nn.ReLU(),\n",
    "            nn.Linear(512, 10),\n",
    "        )\n",
    "\n",
    "    def forward(self, x):\n",
    "        x = self.flatten(x) # call class flatten method\n",
    "        logits = self.linear_relu_stack(x) # call the forward pass for the neural network\n",
    "        return logits"
   ]
  },
  {
   "cell_type": "markdown",
   "metadata": {},
   "source": [
    "We create an instance of `NeuralNetwork`, and move it to the `device`"
   ]
  },
  {
   "cell_type": "code",
   "execution_count": 4,
   "metadata": {},
   "outputs": [
    {
     "name": "stdout",
     "output_type": "stream",
     "text": [
      "NeuralNetwork(\n",
      "  (flatten): Flatten(start_dim=1, end_dim=-1)\n",
      "  (linear_relu_stack): Sequential(\n",
      "    (0): Linear(in_features=784, out_features=512, bias=True)\n",
      "    (1): ReLU()\n",
      "    (2): Linear(in_features=512, out_features=512, bias=True)\n",
      "    (3): ReLU()\n",
      "    (4): Linear(in_features=512, out_features=10, bias=True)\n",
      "  )\n",
      ")\n"
     ]
    }
   ],
   "source": [
    "model = NeuralNetwork().to(device)\n",
    "print(model)"
   ]
  },
  {
   "cell_type": "markdown",
   "metadata": {},
   "source": [
    "To use the model, we pass it the input data. This executes the model’s `forward`, along with some background operations. Do not call `model.forward()` directly!\n",
    "\n",
    "Calling the model on the input returns a 2-dimensional tensor with dim=0 corresponding to each output of 10 raw predicted values for each class, and dim=1 corresponding to the individual values of each output. We get the prediction probabilities by passing it through an instance of the `nn.Softmax` module."
   ]
  },
  {
   "cell_type": "code",
   "execution_count": 5,
   "metadata": {},
   "outputs": [
    {
     "name": "stdout",
     "output_type": "stream",
     "text": [
      "Predicted class: tensor([6], device='mps:0')\n"
     ]
    }
   ],
   "source": [
    "X = torch.rand(1, 28, 28, device=device) # batch of single 28x28 'pixel' image as input data\n",
    "logits = model(X) # yields the final layer neuron outputs\n",
    "pred_probab = nn.Softmax(dim=1)(logits) # creates prob of these outputs corresponding to different classes by using the softmax function\n",
    "y_pred = pred_probab.argmax(1) # Takes the argment with the largest prob as the predicted class \n",
    "print(f\"Predicted class: {y_pred}\") # predicts class from the total of 10 classes"
   ]
  },
  {
   "cell_type": "markdown",
   "metadata": {},
   "source": [
    "In this network, w and b are parameters, which we need to optimize. Thus, we need to be able to compute the gradients of loss function with respect to those variables. In order to do that, we set the requires_grad property of those tensors."
   ]
  },
  {
   "cell_type": "markdown",
   "metadata": {},
   "source": [
    "#### Load Data"
   ]
  },
  {
   "cell_type": "code",
   "execution_count": 6,
   "metadata": {},
   "outputs": [],
   "source": [
    "from torch.utils.data import DataLoader\n",
    "from torchvision import datasets\n",
    "from torchvision.transforms import ToTensor\n",
    "\n",
    "training_data = datasets.FashionMNIST(\n",
    "    root = \"data\", # path where data will be stored\n",
    "    train = True, # \n",
    "    download = True,\n",
    "    transform=ToTensor() # convert ndarray to torch.tensor\n",
    ")\n",
    "\n",
    "test_data = datasets.FashionMNIST(\n",
    "    root=\"data\",\n",
    "    train=False,\n",
    "    download=True,\n",
    "    transform=ToTensor()\n",
    ")"
   ]
  },
  {
   "cell_type": "code",
   "execution_count": 7,
   "metadata": {},
   "outputs": [
    {
     "name": "stdout",
     "output_type": "stream",
     "text": [
      "Dataset FashionMNIST\n",
      "    Number of datapoints: 60000\n",
      "    Root location: data\n",
      "    Split: Train\n",
      "    StandardTransform\n",
      "Transform: ToTensor()\n",
      "Dataset FashionMNIST\n",
      "    Number of datapoints: 10000\n",
      "    Root location: data\n",
      "    Split: Test\n",
      "    StandardTransform\n",
      "Transform: ToTensor()\n"
     ]
    }
   ],
   "source": [
    "print(training_data)\n",
    "print(test_data)"
   ]
  },
  {
   "cell_type": "markdown",
   "metadata": {},
   "source": [
    "Load the dataset with a specific batch size"
   ]
  },
  {
   "cell_type": "code",
   "execution_count": 8,
   "metadata": {},
   "outputs": [],
   "source": [
    "train_dataloader = DataLoader(training_data, batch_size=64)\n",
    "test_dataloader = DataLoader(test_data, batch_size=64)"
   ]
  },
  {
   "cell_type": "markdown",
   "metadata": {},
   "source": [
    "#### Define Hyperparameters\n",
    "\n",
    "Define the following hyperparameters for training:\n",
    "- **Number of Epochs** - the number times to iterate over the dataset\n",
    "- **Batch Size** - the number of data samples propagated through the network before the parameters are updated\n",
    "- **Learning Rate** - how much to update models parameters at each batch/epoch. Smaller values yield slow learning speed, while large values may result in unpredictable behavior during training."
   ]
  },
  {
   "cell_type": "code",
   "execution_count": 9,
   "metadata": {},
   "outputs": [],
   "source": [
    "lr = 1e-3\n",
    "bs = 64\n",
    "epochs = 5"
   ]
  },
  {
   "cell_type": "markdown",
   "metadata": {},
   "source": [
    "### Optimization loop\n",
    "\n",
    "Once we set our hyperparameters, we can then train and optimize our model with an optimization loop. Each iteration of the optimization loop is called an epoch.\n",
    "\n",
    "Each epoch consists of two main parts:\n",
    "- The Train Loop - iterate over the training dataset and try to converge to optimal parameters.\n",
    "- The Validation/Test Loop - iterate over the test dataset to check if model performance is improving."
   ]
  },
  {
   "cell_type": "markdown",
   "metadata": {},
   "source": [
    "#### Loss function\n",
    " Loss function measures the degree of dissimilarity of obtained result to the target value, and it is the loss function that we want to minimize during training. To calculate the loss we make a prediction using the inputs of our given data sample and compare it against the true data label value.\n",
    "\n",
    " Common loss functions include nn.MSELoss (Mean Square Error) for regression tasks\n",
    "\n",
    "nn.NLLoss (Negative Log Likelihood) for classification\n",
    "\n",
    "nn.CrossEntropyLoss combines nn.LogSoftmax and nn.NLLLoss to yield a probabiliy in our prediction"
   ]
  },
  {
   "cell_type": "code",
   "execution_count": 10,
   "metadata": {},
   "outputs": [],
   "source": [
    "# Initialize the loss function\n",
    "loss_fn = nn.CrossEntropyLoss()"
   ]
  },
  {
   "cell_type": "markdown",
   "metadata": {},
   "source": [
    "#### Optimizer\n",
    "\n",
    "Optimization is the process of adjusting model parameters to reduce model error in each training step. \n",
    "\n",
    "Optimization algorithms define how this process is performed (in this example we use Stochastic Gradient Descent). All optimization logic is encapsulated in the optimizer object.\n",
    "\n",
    "Initalize the optimizer by passing the model's parameters that need to be trained, and passing any optimizer relevant hyperparameters such as learning rate."
   ]
  },
  {
   "cell_type": "code",
   "execution_count": 11,
   "metadata": {},
   "outputs": [],
   "source": [
    "optimizer = torch.optim.SGD(model.parameters(), lr= lr) "
   ]
  },
  {
   "cell_type": "markdown",
   "metadata": {},
   "source": [
    "Inside the training loop, optimization happens in three steps:\n",
    "\n",
    "- Call optimizer.zero_grad() to reset the gradients of model parameters. Gradients by default add up; to prevent double-counting, we explicitly zero them at each iteration.\n",
    "- Backpropagate the prediction loss with a call to loss.backward(). PyTorch deposits the gradients of the loss w.r.t. each parameter.\n",
    "- Once we have our gradients, we call optimizer.step() to adjust the parameters by the gradients collected in the backward pass."
   ]
  },
  {
   "cell_type": "markdown",
   "metadata": {},
   "source": [
    "### Training and Test Loop\n",
    "We define train_loop that loops over our optimization code, and test_loop that evaluates the model’s performance against our test data.\n",
    "\n",
    "The training loop consists of:\n",
    "1) Setting the model to train\n",
    "2) Iterate over each batch, get the features and labels\n",
    "3) For each batch, obtain the model predictions\n",
    "4) Compute the loss (deviation from model pred to true label)\n",
    "5) Start backpropagation by computing the gradients wrt to each parameter of each node to obtain the change to derivative of the loss function\n",
    "6) Adjust the node parameters (weight and biases) by the gradients\n",
    "7) Reset th gradients of the model to prepare for the next batch"
   ]
  },
  {
   "cell_type": "code",
   "execution_count": 25,
   "metadata": {},
   "outputs": [],
   "source": [
    "def train_loop(dataloader, model, loss_fn, optimizer):\n",
    "    size = len(dataloader.dataset)\n",
    "\n",
    "    # Set the model to training mode - important for batch normalization and dropout layers\n",
    "    # Unnecessary in this situation but added for best practices\n",
    "    model.train()\n",
    "    \n",
    "    for batch, (X, y) in enumerate(dataloader):\n",
    "        \n",
    "        # Move the data to the device (GPU or MPS)\n",
    "        X = X.to(device)\n",
    "        y =y.to(device)\n",
    "        \n",
    "        # Get prediction and compute loss\n",
    "        pred = model(X)\n",
    "        loss = loss_fn(pred, y)\n",
    "        \n",
    "        # Back-prop\n",
    "        loss.backward()\n",
    "        optimizer.step()\n",
    "        optimizer.zero_grad() \n",
    "        \n",
    "        if batch % 100 == 0:\n",
    "            loss, current = loss.item(), batch * bs + len(X)\n",
    "            print(f\"loss: {loss:>7f}  [{current:>5d}/{size:>5d}]\")\n",
    "            \n",
    "def test_loop(dataloader, model, loss_fn, optimizer):\n",
    "    size = len(dataloader.dataset)\n",
    "    num_batches = len(dataloader)\n",
    "    test_loss, correct = 0, 0 # tally the number of correct predictions\n",
    "    \n",
    "   # Set the model to evaluation mode - important for batch normalization and dropout layers\n",
    "    # Unnecessary in this situation but added for best practices\n",
    "    model.eval()\n",
    "\n",
    "    # Evaluating the model with torch.no_grad() ensures that no gradients are computed during test mode\n",
    "    # also serves to reduce unnecessary gradient computations and memory usage for tensors with requires_grad=True\n",
    "    \n",
    "    with torch.no_grad():\n",
    "        for X, y in dataloader:\n",
    "            \n",
    "            # Move the data to the device (GPU or MPS)\n",
    "            X = X.to(device)\n",
    "            y =y.to(device)\n",
    "            \n",
    "            pred = model(X)\n",
    "            test_loss += loss_fn(pred, y).item()\n",
    "            correct += (pred.argmax(1) == y).type(torch.float).sum().item()\n",
    "    \n",
    "    # TODO: Explain the two steps below\n",
    "    test_loss /= num_batches\n",
    "    correct /= size\n",
    "    print(f\"Test Error: \\n Accuracy: {(100*correct):>0.1f}%, Avg loss: {test_loss:>8f} \\n\")\n",
    "    \n",
    "        "
   ]
  },
  {
   "cell_type": "markdown",
   "metadata": {},
   "source": [
    "#### Training and Test loop execution"
   ]
  },
  {
   "cell_type": "code",
   "execution_count": 26,
   "metadata": {},
   "outputs": [
    {
     "name": "stdout",
     "output_type": "stream",
     "text": [
      "Epoch 1\n",
      "-------------------------------\n",
      "loss: 1.891896  [   64/60000]\n",
      "loss: 1.867726  [ 6464/60000]\n",
      "loss: 1.732750  [12864/60000]\n",
      "loss: 1.770723  [19264/60000]\n",
      "loss: 1.671376  [25664/60000]\n",
      "loss: 1.620758  [32064/60000]\n",
      "loss: 1.636911  [38464/60000]\n",
      "loss: 1.540162  [44864/60000]\n",
      "loss: 1.565440  [51264/60000]\n",
      "loss: 1.464948  [57664/60000]\n",
      "Test Error: \n",
      " Accuracy: 61.4%, Avg loss: 1.484152 \n",
      "\n",
      "Epoch 2\n",
      "-------------------------------\n",
      "loss: 1.553514  [   64/60000]\n",
      "loss: 1.529315  [ 6464/60000]\n",
      "loss: 1.366726  [12864/60000]\n",
      "loss: 1.444998  [19264/60000]\n",
      "loss: 1.329574  [25664/60000]\n",
      "loss: 1.320425  [32064/60000]\n",
      "loss: 1.337247  [38464/60000]\n",
      "loss: 1.260398  [44864/60000]\n",
      "loss: 1.301708  [51264/60000]\n",
      "loss: 1.212306  [57664/60000]\n",
      "Test Error: \n",
      " Accuracy: 63.8%, Avg loss: 1.232651 \n",
      "\n",
      "Epoch 3\n",
      "-------------------------------\n",
      "loss: 1.306572  [   64/60000]\n",
      "loss: 1.298569  [ 6464/60000]\n",
      "loss: 1.123892  [12864/60000]\n",
      "loss: 1.238328  [19264/60000]\n",
      "loss: 1.112033  [25664/60000]\n",
      "loss: 1.128571  [32064/60000]\n",
      "loss: 1.155038  [38464/60000]\n",
      "loss: 1.088073  [44864/60000]\n",
      "loss: 1.136229  [51264/60000]\n",
      "loss: 1.063919  [57664/60000]\n",
      "Test Error: \n",
      " Accuracy: 65.1%, Avg loss: 1.076266 \n",
      "\n",
      "Epoch 4\n",
      "-------------------------------\n",
      "loss: 1.143139  [   64/60000]\n",
      "loss: 1.153264  [ 6464/60000]\n",
      "loss: 0.964232  [12864/60000]\n",
      "loss: 1.106403  [19264/60000]\n",
      "loss: 0.977818  [25664/60000]\n",
      "loss: 0.998350  [32064/60000]\n",
      "loss: 1.041295  [38464/60000]\n",
      "loss: 0.976978  [44864/60000]\n",
      "loss: 1.025923  [51264/60000]\n",
      "loss: 0.970122  [57664/60000]\n",
      "Test Error: \n",
      " Accuracy: 66.1%, Avg loss: 0.974079 \n",
      "\n",
      "Epoch 5\n",
      "-------------------------------\n",
      "loss: 1.028489  [   64/60000]\n",
      "loss: 1.058402  [ 6464/60000]\n",
      "loss: 0.853962  [12864/60000]\n",
      "loss: 1.017119  [19264/60000]\n",
      "loss: 0.892854  [25664/60000]\n",
      "loss: 0.906093  [32064/60000]\n",
      "loss: 0.966530  [38464/60000]\n",
      "loss: 0.904123  [44864/60000]\n",
      "loss: 0.948710  [51264/60000]\n",
      "loss: 0.907370  [57664/60000]\n",
      "Test Error: \n",
      " Accuracy: 67.2%, Avg loss: 0.903983 \n",
      "\n",
      "Done!\n"
     ]
    }
   ],
   "source": [
    "for t in range(epochs):\n",
    "    print(f\"Epoch {t+1}\\n-------------------------------\")\n",
    "    train_loop(train_dataloader, model, loss_fn, optimizer)\n",
    "    test_loop(test_dataloader, model, loss_fn, optimizer)\n",
    "print(\"Done!\")"
   ]
  },
  {
   "cell_type": "markdown",
   "metadata": {},
   "source": [
    "### Check single predictions"
   ]
  },
  {
   "cell_type": "code",
   "execution_count": 97,
   "metadata": {},
   "outputs": [],
   "source": [
    "subset_indices = [1] # select your indices here as a list\n",
    "subset = torch.utils.data.Subset(train_dataloader.dataset, subset_indices)\n",
    "testloader_subset = torch.utils.data.DataLoader(subset, batch_size=1, num_workers=0, shuffle=False)"
   ]
  },
  {
   "cell_type": "code",
   "execution_count": 98,
   "metadata": {},
   "outputs": [
    {
     "data": {
      "image/png": "[encoded data removed]",
      "text/plain": [
       "<Figure size 640x480 with 1 Axes>"
      ]
     },
     "metadata": {},
     "output_type": "display_data"
    },
    {
     "name": "stdout",
     "output_type": "stream",
     "text": [
      "Actual class: T-shirt/top \n",
      "Predicted class: T-shirt/top\n"
     ]
    }
   ],
   "source": [
    "import numpy as np\n",
    "import matplotlib.pyplot as plt \n",
    "\n",
    "\n",
    "# Function to map integer labels to corresponding class names\n",
    "def get_class_name(label):\n",
    "    classes = ['T-shirt/top', 'Trouser', 'Pullover', 'Dress', 'Coat', 'Sandal', 'Shirt', 'Sneaker', 'Bag', 'Ankle boot']\n",
    "    return classes[label]\n",
    "\n",
    "for x, y in testloader_subset:\n",
    "    model.eval()\n",
    "    model_pred = model(x.to(device))\n",
    "    model_pred = model_pred.detach().cpu().numpy().argmax(1)[0]\n",
    "    x = x.squeeze().detach().numpy()\n",
    "    plt.imshow(x, cmap='gray')\n",
    "    plt.show()\n",
    "    print(f\"Actual class: {get_class_name(y.detach().cpu().numpy()[0])} \\nPredicted class: {get_class_name(model_pred)}\")\n"
   ]
  }
 ],
 "metadata": {
  "kernelspec": {
   "display_name": "llm",
   "language": "python",
   "name": "python3"
  },
  "language_info": {
   "codemirror_mode": {
    "name": "ipython",
    "version": 3
   },
   "file_extension": ".py",
   "mimetype": "text/x-python",
   "name": "python",
   "nbconvert_exporter": "python",
   "pygments_lexer": "ipython3",
   "version": "3.11.7"
  }
 },
 "nbformat": 4,
 "nbformat_minor": 2
}
